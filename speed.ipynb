{
 "cells": [
  {
   "cell_type": "code",
   "execution_count": 1,
   "metadata": {},
   "outputs": [
    {
     "name": "stderr",
     "output_type": "stream",
     "text": [
      "/Users/sonamjain/Library/Python/3.9/lib/python/site-packages/urllib3/__init__.py:35: NotOpenSSLWarning: urllib3 v2 only supports OpenSSL 1.1.1+, currently the 'ssl' module is compiled with 'LibreSSL 2.8.3'. See: https://github.com/urllib3/urllib3/issues/3020\n",
      "  warnings.warn(\n"
     ]
    }
   ],
   "source": [
    "import time\n",
    "from concurrent.futures import ThreadPoolExecutor, as_completed\n",
    "from ibm_watson import NaturalLanguageUnderstandingV1\n",
    "from ibm_watson.natural_language_understanding_v1 import Features, KeywordsOptions\n",
    "from ibm_cloud_sdk_core.authenticators import IAMAuthenticator\n",
    "from google.cloud import language_v1\n",
    "import boto3\n",
    "from dotenv import load_dotenv\n",
    "import os\n",
    "\n",
    "load_dotenv()\n",
    "IBM_API_KEY = os.getenv(\"IBM_API_KEY\")\n",
    "IBM_URL = os.getenv(\"IBM_URL\")\n",
    "\n",
    "GOOGLE_API_CREDENTIALS_PATH = os.getenv(\"GOOGLE_API_CREDENTIALS_PATH\")\n",
    "\n",
    "AWS_ACCESS_KEY = os.getenv(\"AWS_ACCESS_KEY\")\n",
    "AWS_SECRET_KEY = os.getenv(\"AWS_SECRET_KEY\")\n",
    "AWS_REGION = os.getenv(\"AWS_REGION\")\n"
   ]
  },
  {
   "cell_type": "code",
   "execution_count": 2,
   "metadata": {},
   "outputs": [],
   "source": [
    "text = \"Tesla's Cybertruck preorders skyrocket after unveiling.\""
   ]
  },
  {
   "cell_type": "code",
   "execution_count": 3,
   "metadata": {},
   "outputs": [],
   "source": [
    "# Initialize IBM Watson NLU\n",
    "def analyze_ibm():\n",
    "    authenticator = IAMAuthenticator(IBM_API_KEY)\n",
    "    nlu = NaturalLanguageUnderstandingV1(\n",
    "        version=\"2021-08-01\",\n",
    "        authenticator=authenticator\n",
    "    )\n",
    "    nlu.set_service_url(IBM_URL)\n",
    "\n",
    "    response = nlu.analyze(\n",
    "        text=text,\n",
    "        features=Features(keywords=KeywordsOptions(limit=5))\n",
    "    ).get_result()\n",
    "    return response\n",
    "\n",
    "# Initialize Google Cloud NLP\n",
    "def analyze_google():\n",
    "    client = language_v1.LanguageServiceClient.from_service_account_json(GOOGLE_API_CREDENTIALS_PATH)\n",
    "\n",
    "    document = language_v1.Document(content=text, type_=language_v1.Document.Type.PLAIN_TEXT)\n",
    "    response = client.analyze_entities(document=document)\n",
    "    return response\n",
    "\n",
    "# Initialize AWS Comprehend\n",
    "def analyze_aws():\n",
    "    client = boto3.client(\n",
    "        \"comprehend\",\n",
    "        aws_access_key_id=AWS_ACCESS_KEY,\n",
    "        aws_secret_access_key=AWS_SECRET_KEY,\n",
    "        region_name=AWS_REGION\n",
    "    )\n",
    "\n",
    "    response = client.detect_entities(\n",
    "        Text=text,\n",
    "        LanguageCode=\"en\"\n",
    "    )\n",
    "    return response"
   ]
  },
  {
   "cell_type": "code",
   "execution_count": 4,
   "metadata": {},
   "outputs": [],
   "source": [
    "# Measure response time for a single request\n",
    "def measure_response_time(func, tool_name):\n",
    "    start_time = time.time()\n",
    "    func()\n",
    "    end_time = time.time()\n",
    "    response_time = end_time - start_time\n",
    "    print(f\"{tool_name} Response Time: {response_time:.2f} seconds\")\n",
    "    return response_time\n",
    "\n",
    "# Simulate parallel requests\n",
    "def simulate_parallel_requests(func, tool_name, num_requests=1000, max_workers=10):\n",
    "    start_time = time.time()\n",
    "    with ThreadPoolExecutor(max_workers=max_workers) as executor:\n",
    "        futures = [executor.submit(func) for _ in range(num_requests)]\n",
    "        for future in as_completed(futures):\n",
    "            pass\n",
    "    end_time = time.time()\n",
    "    total_time = end_time - start_time\n",
    "    avg_response_time = total_time / num_requests\n",
    "    print(f\"{tool_name} Average Response Time for {num_requests} Parallel Requests: {avg_response_time:.2f} seconds\")\n",
    "    return avg_response_time"
   ]
  },
  {
   "cell_type": "code",
   "execution_count": 5,
   "metadata": {},
   "outputs": [
    {
     "name": "stdout",
     "output_type": "stream",
     "text": [
      "IBM Watson NLU Response Time: 1.09 seconds\n",
      "IBM Watson NLU Average Response Time for 1000 Parallel Requests: 0.04 seconds\n"
     ]
    }
   ],
   "source": [
    "ibm_response_time = measure_response_time(analyze_ibm, \"IBM Watson NLU\")\n",
    "ibm_avg_parallel_time = simulate_parallel_requests(analyze_ibm, \"IBM Watson NLU\", num_requests=1000, max_workers=20)"
   ]
  },
  {
   "cell_type": "code",
   "execution_count": 6,
   "metadata": {},
   "outputs": [
    {
     "name": "stdout",
     "output_type": "stream",
     "text": [
      "Google Cloud NLP Response Time: 0.30 seconds\n",
      "Google Cloud NLP Average Response Time for 1000 Parallel Requests: 0.04 seconds\n"
     ]
    }
   ],
   "source": [
    "google_response_time = measure_response_time(analyze_google, \"Google Cloud NLP\")\n",
    "google_avg_parallel_time = simulate_parallel_requests(analyze_google, \"Google Cloud NLP\", num_requests=1000, max_workers=20)"
   ]
  },
  {
   "cell_type": "code",
   "execution_count": 7,
   "metadata": {},
   "outputs": [
    {
     "name": "stdout",
     "output_type": "stream",
     "text": [
      "AWS Comprehend Response Time: 0.35 seconds\n",
      "AWS Comprehend Average Response Time for 1000 Parallel Requests: 0.02 seconds\n"
     ]
    }
   ],
   "source": [
    "aws_response_time = measure_response_time(analyze_aws, \"AWS Comprehend\")\n",
    "aws_avg_parallel_time = simulate_parallel_requests(analyze_aws, \"AWS Comprehend\", num_requests=1000, max_workers=20)"
   ]
  },
  {
   "cell_type": "code",
   "execution_count": 8,
   "metadata": {},
   "outputs": [
    {
     "name": "stdout",
     "output_type": "stream",
     "text": [
      "IBM Watson NLU: Single Request: 1.09s, Parallel Avg: 0.04s\n",
      "Google Cloud NLP: Single Request: 0.30s, Parallel Avg: 0.04s\n",
      "AWS Comprehend: Single Request: 0.35s, Parallel Avg: 0.02s\n"
     ]
    }
   ],
   "source": [
    "print(f\"IBM Watson NLU: Single Request: {ibm_response_time:.2f}s, Parallel Avg: {ibm_avg_parallel_time:.2f}s\")\n",
    "print(f\"Google Cloud NLP: Single Request: {google_response_time:.2f}s, Parallel Avg: {google_avg_parallel_time:.2f}s\")\n",
    "print(f\"AWS Comprehend: Single Request: {aws_response_time:.2f}s, Parallel Avg: {aws_avg_parallel_time:.2f}s\")"
   ]
  }
 ],
 "metadata": {
  "kernelspec": {
   "display_name": "Python 3",
   "language": "python",
   "name": "python3"
  },
  "language_info": {
   "codemirror_mode": {
    "name": "ipython",
    "version": 3
   },
   "file_extension": ".py",
   "mimetype": "text/x-python",
   "name": "python",
   "nbconvert_exporter": "python",
   "pygments_lexer": "ipython3",
   "version": "3.9.6"
  }
 },
 "nbformat": 4,
 "nbformat_minor": 2
}
