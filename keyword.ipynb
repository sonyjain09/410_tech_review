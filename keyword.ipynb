{
 "cells": [
  {
   "cell_type": "code",
   "execution_count": 9,
   "metadata": {},
   "outputs": [],
   "source": [
    "from ibm_watson import NaturalLanguageUnderstandingV1\n",
    "from ibm_watson.natural_language_understanding_v1 import Features, KeywordsOptions\n",
    "from ibm_cloud_sdk_core.authenticators import IAMAuthenticator\n",
    "from google.cloud import language_v1\n",
    "import boto3\n",
    "from dotenv import load_dotenv\n",
    "import os\n",
    "\n",
    "load_dotenv()\n",
    "IBM_API_KEY = os.getenv(\"IBM_API_KEY\")\n",
    "IBM_URL = os.getenv(\"IBM_URL\")\n",
    "\n",
    "GOOGLE_API_CREDENTIALS_PATH = os.getenv(\"GOOGLE_API_CREDENTIALS_PATH\")\n",
    "\n",
    "AWS_ACCESS_KEY = os.getenv(\"AWS_ACCESS_KEY\")\n",
    "AWS_SECRET_KEY = os.getenv(\"AWS_SECRET_KEY\")\n",
    "AWS_REGION = os.getenv(\"AWS_REGION\")"
   ]
  },
  {
   "cell_type": "code",
   "execution_count": 1,
   "metadata": {},
   "outputs": [
    {
     "data": {
      "text/plain": [
       "['Police: Airline pilot found passed out in cockpit was drunk https://t.co/gCqwIOESWJ https://t.co/2agimSVzmK',\n",
       " 'Dashcam video shows man launching himself onto police cruiser https://t.co/2ZGpBAu4ey https://t.co/B2fKNFpY5V',\n",
       " 'Man Arrested For Setting Fire To South SF Medical Clinic New Yearâ\\x80\\x99s Day https://t.co/MaQc2gZVhv https://t.co/wgxyh0iFTO',\n",
       " \"Practical tips to achieving your New Year's resolutions in 2017 https://t.co/LdtEP7Z3JO https://t.co/r5Qvfu06ex\",\n",
       " 'Couple disappears during trip to Big Sur https://t.co/81xYH8ULy2 https://t.co/QbF2bOQnOR',\n",
       " 'Vacaville Police Arrest Man Suspected Of Welfare Fraud, Running Drug House https://t.co/UJuyVi5SCZ https://t.co/uCNkrKDUVD',\n",
       " 'VIDEO: Female Lyft driver violently attacked over parking spot in Santa Ana https://t.co/5oebOWZUAO https://t.co/gM3RsW4vkA',\n",
       " 'Sex offender arrested for allegedly exposing himself to 2 women in SSF https://t.co/7w0u1siMv8 https://t.co/2TnkMEYqUb',\n",
       " '#7Things to know before you go from ABC7 News: Monday https://t.co/4WNyuj7iM6 https://t.co/7fVli1R7zj',\n",
       " '49ers CEO Jed York: â\\x80\\x98I want to apologizeâ\\x80\\x99 https://t.co/023GFrvJzX https://t.co/peMYBRmh3I',\n",
       " 'North Bay Father, Son Ride On Rose Parade Float https://t.co/6HqNwzGDQR https://t.co/LSzYAJO8jP',\n",
       " 'Baby girl revived twice after being exposed to fentanyl https://t.co/RLUwY5FeB1 https://t.co/sThxkQx0dj',\n",
       " 'McGloin Hurt In Broncosâ\\x80\\x99 Rout Of Raiders At Mile High https://t.co/SMOvIO81y5 https://t.co/37wlJoTEhD',\n",
       " 'Water main break in El Sobrante damages two buildings https://t.co/uIHU2Mthjo https://t.co/Q0RQ85Wmsc',\n",
       " 'ABC7 News Morning Digest: Monday https://t.co/K9lPC7Bwf8 https://t.co/ZYtFYeygvV',\n",
       " 'Snow falling in parts of the Bay Area https://t.co/IQOeEHNZcR https://t.co/YT9FSB452z',\n",
       " '49ers CEO Jed York Apologizes For Terrible Season After Firing Head Coach, GM https://t.co/l2QYAk8Onz https://t.co/z1RfGUUa32',\n",
       " 'Rosie O\\'Donnell calls Donald Trump \"mentally unstable\" https://t.co/wXq1a0HBPL https://t.co/5awmmCDBxn',\n",
       " 'Swarm Of More Than 250 Quakes In 3 Days Has CA Scientists On Edge https://t.co/SXF0c2Ogql https://t.co/G01iMBFw3L',\n",
       " 'Donald Trump tweets about Chicago homicides https://t.co/BLfEr9EhVu https://t.co/zcCkcw4HQF',\n",
       " 'Dick Clark Productions Rejects Mariah Careyâ\\x80\\x99s Sabotage Claim https://t.co/kKika0Gntr https://t.co/4xVxq8OWGW',\n",
       " 'IS makes unusual claim of responsibility for Turkey attack https://t.co/ElOoQhMLau https://t.co/2T6V280EpQ',\n",
       " '49ers Team Grades: S.F. Comes Up Just Short At Home Against Seattle https://t.co/3okluYJobh https://t.co/tB1gg2tUaN',\n",
       " 'Search resumes for plane with 6 aboard; bag investigated https://t.co/WK1MNX3F13 https://t.co/FpZMluCX2y',\n",
       " 'Raiders Team Grades: Oakland Falls In Denver, Kansas City Captures AFC West Crown https://t.co/QB4lzFWlGS https://t.co/xcUcvKYTwt',\n",
       " 'Suspect at large in attempted rape of female in Oakland https://t.co/02RfoU5bkR https://t.co/avgr2CSUCz',\n",
       " 'PHOTOS: Vacaville police arrest 4 during welfare fraud investigation https://t.co/jvekqxFlHa https://t.co/viACgko47J',\n",
       " '2-year twins: San Diego babies born Dec. 31 and Jan. 1 https://t.co/UwwwPlFDR9 https://t.co/0dh9vR1Cx0',\n",
       " 'VIDEO: Arkansas mom dies on Facebook Live https://t.co/vlk8jajz08 https://t.co/5Kl7XrhjjZ',\n",
       " 'Harlem Globetrotters Family Four-Pack Ticket Giveaway https://t.co/y15dBcysSO https://t.co/qLtFyRENbo',\n",
       " 'San Francisco 49ers announce both Trent Baalke, Chip Kelly fired https://t.co/CCWz57EwL2 https://t.co/PPI6byhW4A',\n",
       " 'Homeowner chases suspected prowler off his property near Woodside  #news',\n",
       " 'CHP: 480 reported collisions from midnight until noon Tuesday  #news',\n",
       " 'Coroner identifies 19-year-old woman killed in Martinez crash  #news',\n",
       " 'Report: Strong possibility defensive coordinator Eric Mangini will return to San Francisco 49ers  #news',\n",
       " 'Taliban kill 20 in attack at northwest Pakistani university  #news',\n",
       " 'Salinas dentist arrested for allegedly possessing child pornography images  #news',\n",
       " 'Residents in San Mateo asked to shelter in place due to suspect on the loose  #news',\n",
       " 'Florida woman arrested after live-streaming herself smoking spice  #news',\n",
       " 'Couple killed in suspected murder-suicide in Petaluma idenitifed  #news',\n",
       " '2 arrested after police recover stolen Jeep in San Bruno  #news',\n",
       " 'Crash leads to DUI arrest in Petaluma  #news',\n",
       " 'Disney recalls Darth Vader and anniversary onesies due to choking hazard  #news',\n",
       " 'Woman dies after stranger pushes her in front of Berlin subway train  #news',\n",
       " '2nd victim of deadly Greyhound bus crash identified as 76-year-old Salinas woman  #news',\n",
       " '911 call unanswered as operator orders pizza  #news',\n",
       " 'Police seek suspect in South San Francisco shooting  #news',\n",
       " 'NOAA, NASA: 2015 was hottest year on Earth by a wide margin  #news',\n",
       " 'Scientists: Solid evidence for 9th planet in solar system  #news',\n",
       " 'The World According to Gary: 49ers introduce Chip Kelly, contact Lane Kiffin for OC job  #news']"
      ]
     },
     "execution_count": 1,
     "metadata": {},
     "output_type": "execute_result"
    }
   ],
   "source": [
    "import pandas as pd\n",
    "# Extract the 'Article' column and convert it into a list\n",
    "data = pd.read_csv(\"tweets.csv\", encoding='latin1')\n",
    "tweets = data['content'].tolist()\n",
    "tweets = tweets[:50]\n",
    "tweets"
   ]
  },
  {
   "cell_type": "code",
   "execution_count": 2,
   "metadata": {},
   "outputs": [
    {
     "name": "stderr",
     "output_type": "stream",
     "text": [
      "/Users/sonamjain/Library/Python/3.9/lib/python/site-packages/urllib3/__init__.py:35: NotOpenSSLWarning: urllib3 v2 only supports OpenSSL 1.1.1+, currently the 'ssl' module is compiled with 'LibreSSL 2.8.3'. See: https://github.com/urllib3/urllib3/issues/3020\n",
      "  warnings.warn(\n"
     ]
    }
   ],
   "source": [
    "import spacy\n",
    "\n",
    "nlp = spacy.load(\"en_core_web_sm\")\n",
    "\n",
    "ground_truth = []\n",
    "\n",
    "for tweet in tweets:\n",
    "    doc = nlp(tweet)\n",
    "    \n",
    "    orgs = [ent.text for ent in doc.ents if ent.label_ == \"ORG\"]\n",
    "    gpes = [ent.text for ent in doc.ents if ent.label_ == \"GPE\"]\n",
    "    \n",
    "    combined_entities = orgs + gpes\n",
    "    \n",
    "    ground_truth.append(combined_entities)"
   ]
  },
  {
   "cell_type": "code",
   "execution_count": 6,
   "metadata": {},
   "outputs": [],
   "source": [
    "# IBM Watson NLU Keyword Extraction\n",
    "def analyze_keywords_ibm(tweet):\n",
    "    authenticator = IAMAuthenticator(IBM_API_KEY)\n",
    "    nlu = NaturalLanguageUnderstandingV1(\n",
    "        version=\"2021-08-01\",\n",
    "        authenticator=authenticator\n",
    "    )\n",
    "    nlu.set_service_url(IBM_URL)\n",
    "\n",
    "    response = nlu.analyze(\n",
    "        text=tweet,\n",
    "        features=Features(keywords=KeywordsOptions(limit=5))\n",
    "    ).get_result()\n",
    "\n",
    "    keywords = [kw['text'] for kw in response['keywords']]\n",
    "    return keywords\n",
    "\n",
    "# Google Cloud NLP Keyword Extraction\n",
    "def analyze_keywords_google(tweet):\n",
    "    client = language_v1.LanguageServiceClient.from_service_account_json(GOOGLE_API_CREDENTIALS_PATH)\n",
    "\n",
    "    document = language_v1.Document(content=tweet, type_=language_v1.Document.Type.PLAIN_TEXT)\n",
    "    response = client.analyze_entities(document=document)\n",
    "\n",
    "    keywords = [entity.name for entity in response.entities]\n",
    "    return keywords\n",
    "\n",
    "# AWS Comprehend Keyword Extraction (via entities)\n",
    "def analyze_keywords_aws(tweet):\n",
    "    client = boto3.client(\n",
    "        \"comprehend\",\n",
    "        aws_access_key_id=AWS_ACCESS_KEY,\n",
    "        aws_secret_access_key=AWS_SECRET_KEY,\n",
    "        region_name=AWS_REGION\n",
    "    )\n",
    "\n",
    "    response = client.detect_entities(\n",
    "        Text=tweet,\n",
    "        LanguageCode=\"en\"\n",
    "    )\n",
    "\n",
    "    keywords = [entity['Text'] for entity in response['Entities']]\n",
    "    return keywords"
   ]
  },
  {
   "cell_type": "code",
   "execution_count": 7,
   "metadata": {},
   "outputs": [],
   "source": [
    "# Evaluate Results\n",
    "def evaluate_keywords(extracted_keywords, ground_truth):\n",
    "    correct = 0\n",
    "    for extracted, truth in zip(extracted_keywords, ground_truth):\n",
    "        extracted_set = set([kw.lower() for kw in extracted])\n",
    "        truth_set = set([kw.lower() for kw in truth])\n",
    "        correct += len(extracted_set & truth_set)\n",
    "\n",
    "    accuracy = (correct / sum(len(gt) for gt in ground_truth)) * 100\n",
    "    return accuracy"
   ]
  },
  {
   "cell_type": "code",
   "execution_count": 10,
   "metadata": {},
   "outputs": [],
   "source": [
    "ibm_results = [analyze_keywords_ibm(tweet) for tweet in tweets]\n",
    "ibm_accuracy = evaluate_keywords(ibm_results, ground_truth)"
   ]
  },
  {
   "cell_type": "code",
   "execution_count": 11,
   "metadata": {},
   "outputs": [],
   "source": [
    "google_results = [analyze_keywords_google(tweet) for tweet in tweets]\n",
    "google_accuracy = evaluate_keywords(google_results, ground_truth)"
   ]
  },
  {
   "cell_type": "code",
   "execution_count": 12,
   "metadata": {},
   "outputs": [],
   "source": [
    "aws_results = [analyze_keywords_aws(tweet) for tweet in tweets]\n",
    "aws_accuracy = evaluate_keywords(aws_results, ground_truth)"
   ]
  },
  {
   "cell_type": "code",
   "execution_count": 13,
   "metadata": {},
   "outputs": [
    {
     "name": "stdout",
     "output_type": "stream",
     "text": [
      "IBM Watson NLU Accuracy: 50.00%\n",
      "Google Cloud NLP Accuracy: 59.52%\n",
      "AWS Comprehend Accuracy: 73.81%\n"
     ]
    }
   ],
   "source": [
    "print(f\"IBM Watson NLU Accuracy: {ibm_accuracy:.2f}%\")\n",
    "\n",
    "print(f\"Google Cloud NLP Accuracy: {google_accuracy:.2f}%\")\n",
    "\n",
    "print(f\"AWS Comprehend Accuracy: {aws_accuracy:.2f}%\")"
   ]
  }
 ],
 "metadata": {
  "kernelspec": {
   "display_name": "Python 3",
   "language": "python",
   "name": "python3"
  },
  "language_info": {
   "codemirror_mode": {
    "name": "ipython",
    "version": 3
   },
   "file_extension": ".py",
   "mimetype": "text/x-python",
   "name": "python",
   "nbconvert_exporter": "python",
   "pygments_lexer": "ipython3",
   "version": "3.9.6"
  }
 },
 "nbformat": 4,
 "nbformat_minor": 2
}
